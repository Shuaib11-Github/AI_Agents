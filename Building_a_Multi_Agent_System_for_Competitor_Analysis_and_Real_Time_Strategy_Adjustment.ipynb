{
  "nbformat": 4,
  "nbformat_minor": 0,
  "metadata": {
    "colab": {
      "provenance": [],
      "include_colab_link": true
    },
    "kernelspec": {
      "name": "python3",
      "display_name": "Python 3"
    },
    "language_info": {
      "name": "python"
    }
  },
  "cells": [
    {
      "cell_type": "markdown",
      "metadata": {
        "id": "view-in-github",
        "colab_type": "text"
      },
      "source": [
        "<a href=\"https://colab.research.google.com/github/Shuaib11-Github/AI_Agents/blob/main/Building_a_Multi_Agent_System_for_Competitor_Analysis_and_Real_Time_Strategy_Adjustment.ipynb\" target=\"_parent\"><img src=\"https://colab.research.google.com/assets/colab-badge.svg\" alt=\"Open In Colab\"/></a>"
      ]
    },
    {
      "cell_type": "markdown",
      "source": [
        "# Building a Multi-Agent System for Competitor Analysis and Real-Time Strategy Adjustment\n",
        "\n",
        "This tutorial guides you through building a multi-agent system for **competitor analysis and real-time strategy adjustment** using **OpenAI's APIs**, **LangChain**, and other modern libraries. This system will:\n",
        "- Monitor competitor activities.\n",
        "- Analyze market data.\n",
        "- Generate strategic recommendations for real-time adjustments.\n",
        "\n",
        "The tutorial includes a step-by-step walkthrough, a fully functional Google Colab notebook, and integration with **Gradio** for a user-friendly interface.\n",
        "\n",
        "---\n",
        "\n",
        "## **Key Libraries Used**\n",
        "We leverage the following Python libraries:\n",
        "- **OpenAI**: For language model capabilities.\n",
        "- **LangChain**: To manage agents, tools, and memory.\n",
        "- **ChromaDB**: To store and retrieve competitor data.\n",
        "- **Gradio**: To create a user interface.\n",
        "- **BeautifulSoup**: For web scraping competitor websites.\n",
        "- **Pandas** and **NumPy**: For data manipulation.\n",
        "\n",
        "---\n",
        "\n",
        "## **1. Environment Setup**\n",
        "Ensure all dependencies are installed. Use the following command to install the required libraries:"
      ],
      "metadata": {
        "id": "AHFhDG38NdDN"
      }
    },
    {
      "cell_type": "code",
      "source": [
        "!pip install openai gradio chromadb langchain pandas numpy requests beautifulsoup4 langchain_community tiktoken python-dotenv\n",
        "# !pip install openai gradio chromadb langchain pandas numpy requests beautifulsoup4 langchain_community tiktoken python-dotenv git+https://github.com/openai/swarm.git"
      ],
      "metadata": {
        "colab": {
          "base_uri": "https://localhost:8080/"
        },
        "id": "xQhJSIQDPCxc",
        "outputId": "ca0a528c-d550-499d-e2a6-6f9d934114e7"
      },
      "execution_count": null,
      "outputs": [
        {
          "output_type": "stream",
          "name": "stdout",
          "text": [
            "Requirement already satisfied: openai in /usr/local/lib/python3.10/dist-packages (1.54.4)\n",
            "Requirement already satisfied: gradio in /usr/local/lib/python3.10/dist-packages (5.6.0)\n",
            "Requirement already satisfied: chromadb in /usr/local/lib/python3.10/dist-packages (0.5.20)\n",
            "Requirement already satisfied: langchain in /usr/local/lib/python3.10/dist-packages (0.3.7)\n",
            "Requirement already satisfied: pandas in /usr/local/lib/python3.10/dist-packages (2.2.2)\n",
            "Requirement already satisfied: numpy in /usr/local/lib/python3.10/dist-packages (1.26.4)\n",
            "Requirement already satisfied: requests in /usr/local/lib/python3.10/dist-packages (2.32.3)\n",
            "Requirement already satisfied: beautifulsoup4 in /usr/local/lib/python3.10/dist-packages (4.12.3)\n",
            "Requirement already satisfied: langchain_community in /usr/local/lib/python3.10/dist-packages (0.3.7)\n",
            "Requirement already satisfied: tiktoken in /usr/local/lib/python3.10/dist-packages (0.8.0)\n",
            "Requirement already satisfied: python-dotenv in /usr/local/lib/python3.10/dist-packages (1.0.1)\n",
            "Requirement already satisfied: anyio<5,>=3.5.0 in /usr/local/lib/python3.10/dist-packages (from openai) (3.7.1)\n",
            "Requirement already satisfied: distro<2,>=1.7.0 in /usr/local/lib/python3.10/dist-packages (from openai) (1.9.0)\n",
            "Requirement already satisfied: httpx<1,>=0.23.0 in /usr/local/lib/python3.10/dist-packages (from openai) (0.27.2)\n",
            "Requirement already satisfied: jiter<1,>=0.4.0 in /usr/local/lib/python3.10/dist-packages (from openai) (0.6.1)\n",
            "Requirement already satisfied: pydantic<3,>=1.9.0 in /usr/local/lib/python3.10/dist-packages (from openai) (2.9.2)\n",
            "Requirement already satisfied: sniffio in /usr/local/lib/python3.10/dist-packages (from openai) (1.3.1)\n",
            "Requirement already satisfied: tqdm>4 in /usr/local/lib/python3.10/dist-packages (from openai) (4.66.6)\n",
            "Requirement already satisfied: typing-extensions<5,>=4.11 in /usr/local/lib/python3.10/dist-packages (from openai) (4.12.2)\n",
            "Requirement already satisfied: aiofiles<24.0,>=22.0 in /usr/local/lib/python3.10/dist-packages (from gradio) (23.2.1)\n",
            "Requirement already satisfied: fastapi<1.0,>=0.115.2 in /usr/local/lib/python3.10/dist-packages (from gradio) (0.115.5)\n",
            "Requirement already satisfied: ffmpy in /usr/local/lib/python3.10/dist-packages (from gradio) (0.4.0)\n",
            "Requirement already satisfied: gradio-client==1.4.3 in /usr/local/lib/python3.10/dist-packages (from gradio) (1.4.3)\n",
            "Requirement already satisfied: huggingface-hub>=0.25.1 in /usr/local/lib/python3.10/dist-packages (from gradio) (0.26.2)\n",
            "Requirement already satisfied: jinja2<4.0 in /usr/local/lib/python3.10/dist-packages (from gradio) (3.1.4)\n",
            "Requirement already satisfied: markupsafe~=2.0 in /usr/local/lib/python3.10/dist-packages (from gradio) (2.1.5)\n",
            "Requirement already satisfied: orjson~=3.0 in /usr/local/lib/python3.10/dist-packages (from gradio) (3.10.11)\n",
            "Requirement already satisfied: packaging in /usr/local/lib/python3.10/dist-packages (from gradio) (24.2)\n",
            "Requirement already satisfied: pillow<12.0,>=8.0 in /usr/local/lib/python3.10/dist-packages (from gradio) (11.0.0)\n",
            "Requirement already satisfied: pydub in /usr/local/lib/python3.10/dist-packages (from gradio) (0.25.1)\n",
            "Requirement already satisfied: python-multipart==0.0.12 in /usr/local/lib/python3.10/dist-packages (from gradio) (0.0.12)\n",
            "Requirement already satisfied: pyyaml<7.0,>=5.0 in /usr/local/lib/python3.10/dist-packages (from gradio) (6.0.2)\n",
            "Requirement already satisfied: ruff>=0.2.2 in /usr/local/lib/python3.10/dist-packages (from gradio) (0.8.0)\n",
            "Requirement already satisfied: safehttpx<1.0,>=0.1.1 in /usr/local/lib/python3.10/dist-packages (from gradio) (0.1.1)\n",
            "Requirement already satisfied: semantic-version~=2.0 in /usr/local/lib/python3.10/dist-packages (from gradio) (2.10.0)\n",
            "Requirement already satisfied: starlette<1.0,>=0.40.0 in /usr/local/lib/python3.10/dist-packages (from gradio) (0.41.3)\n",
            "Requirement already satisfied: tomlkit==0.12.0 in /usr/local/lib/python3.10/dist-packages (from gradio) (0.12.0)\n",
            "Requirement already satisfied: typer<1.0,>=0.12 in /usr/local/lib/python3.10/dist-packages (from gradio) (0.13.0)\n",
            "Requirement already satisfied: uvicorn>=0.14.0 in /usr/local/lib/python3.10/dist-packages (from gradio) (0.32.1)\n",
            "Requirement already satisfied: fsspec in /usr/local/lib/python3.10/dist-packages (from gradio-client==1.4.3->gradio) (2024.10.0)\n",
            "Requirement already satisfied: websockets<13.0,>=10.0 in /usr/local/lib/python3.10/dist-packages (from gradio-client==1.4.3->gradio) (12.0)\n",
            "Requirement already satisfied: build>=1.0.3 in /usr/local/lib/python3.10/dist-packages (from chromadb) (1.2.2.post1)\n",
            "Requirement already satisfied: chroma-hnswlib==0.7.6 in /usr/local/lib/python3.10/dist-packages (from chromadb) (0.7.6)\n",
            "Requirement already satisfied: posthog>=2.4.0 in /usr/local/lib/python3.10/dist-packages (from chromadb) (3.7.2)\n",
            "Requirement already satisfied: onnxruntime>=1.14.1 in /usr/local/lib/python3.10/dist-packages (from chromadb) (1.20.1)\n",
            "Requirement already satisfied: opentelemetry-api>=1.2.0 in /usr/local/lib/python3.10/dist-packages (from chromadb) (1.28.2)\n",
            "Requirement already satisfied: opentelemetry-exporter-otlp-proto-grpc>=1.2.0 in /usr/local/lib/python3.10/dist-packages (from chromadb) (1.28.2)\n",
            "Requirement already satisfied: opentelemetry-instrumentation-fastapi>=0.41b0 in /usr/local/lib/python3.10/dist-packages (from chromadb) (0.49b2)\n",
            "Requirement already satisfied: opentelemetry-sdk>=1.2.0 in /usr/local/lib/python3.10/dist-packages (from chromadb) (1.28.2)\n",
            "Requirement already satisfied: tokenizers>=0.13.2 in /usr/local/lib/python3.10/dist-packages (from chromadb) (0.20.3)\n",
            "Requirement already satisfied: pypika>=0.48.9 in /usr/local/lib/python3.10/dist-packages (from chromadb) (0.48.9)\n",
            "Requirement already satisfied: overrides>=7.3.1 in /usr/local/lib/python3.10/dist-packages (from chromadb) (7.7.0)\n",
            "Requirement already satisfied: importlib-resources in /usr/local/lib/python3.10/dist-packages (from chromadb) (6.4.5)\n",
            "Requirement already satisfied: grpcio>=1.58.0 in /usr/local/lib/python3.10/dist-packages (from chromadb) (1.68.0)\n",
            "Requirement already satisfied: bcrypt>=4.0.1 in /usr/local/lib/python3.10/dist-packages (from chromadb) (4.2.1)\n",
            "Requirement already satisfied: kubernetes>=28.1.0 in /usr/local/lib/python3.10/dist-packages (from chromadb) (31.0.0)\n",
            "Requirement already satisfied: tenacity>=8.2.3 in /usr/local/lib/python3.10/dist-packages (from chromadb) (9.0.0)\n",
            "Requirement already satisfied: mmh3>=4.0.1 in /usr/local/lib/python3.10/dist-packages (from chromadb) (5.0.1)\n",
            "Requirement already satisfied: rich>=10.11.0 in /usr/local/lib/python3.10/dist-packages (from chromadb) (13.9.4)\n",
            "Requirement already satisfied: SQLAlchemy<3,>=1.4 in /usr/local/lib/python3.10/dist-packages (from langchain) (2.0.35)\n",
            "Requirement already satisfied: aiohttp<4.0.0,>=3.8.3 in /usr/local/lib/python3.10/dist-packages (from langchain) (3.11.2)\n",
            "Requirement already satisfied: async-timeout<5.0.0,>=4.0.0 in /usr/local/lib/python3.10/dist-packages (from langchain) (4.0.3)\n",
            "Requirement already satisfied: langchain-core<0.4.0,>=0.3.15 in /usr/local/lib/python3.10/dist-packages (from langchain) (0.3.19)\n",
            "Requirement already satisfied: langchain-text-splitters<0.4.0,>=0.3.0 in /usr/local/lib/python3.10/dist-packages (from langchain) (0.3.2)\n",
            "Requirement already satisfied: langsmith<0.2.0,>=0.1.17 in /usr/local/lib/python3.10/dist-packages (from langchain) (0.1.143)\n",
            "Requirement already satisfied: python-dateutil>=2.8.2 in /usr/local/lib/python3.10/dist-packages (from pandas) (2.8.2)\n",
            "Requirement already satisfied: pytz>=2020.1 in /usr/local/lib/python3.10/dist-packages (from pandas) (2024.2)\n",
            "Requirement already satisfied: tzdata>=2022.7 in /usr/local/lib/python3.10/dist-packages (from pandas) (2024.2)\n",
            "Requirement already satisfied: charset-normalizer<4,>=2 in /usr/local/lib/python3.10/dist-packages (from requests) (3.4.0)\n",
            "Requirement already satisfied: idna<4,>=2.5 in /usr/local/lib/python3.10/dist-packages (from requests) (3.10)\n",
            "Requirement already satisfied: urllib3<3,>=1.21.1 in /usr/local/lib/python3.10/dist-packages (from requests) (2.2.3)\n",
            "Requirement already satisfied: certifi>=2017.4.17 in /usr/local/lib/python3.10/dist-packages (from requests) (2024.8.30)\n",
            "Requirement already satisfied: soupsieve>1.2 in /usr/local/lib/python3.10/dist-packages (from beautifulsoup4) (2.6)\n",
            "Requirement already satisfied: dataclasses-json<0.7,>=0.5.7 in /usr/local/lib/python3.10/dist-packages (from langchain_community) (0.6.7)\n",
            "Requirement already satisfied: httpx-sse<0.5.0,>=0.4.0 in /usr/local/lib/python3.10/dist-packages (from langchain_community) (0.4.0)\n",
            "Requirement already satisfied: pydantic-settings<3.0.0,>=2.4.0 in /usr/local/lib/python3.10/dist-packages (from langchain_community) (2.6.1)\n",
            "Requirement already satisfied: regex>=2022.1.18 in /usr/local/lib/python3.10/dist-packages (from tiktoken) (2024.9.11)\n",
            "Requirement already satisfied: aiohappyeyeballs>=2.3.0 in /usr/local/lib/python3.10/dist-packages (from aiohttp<4.0.0,>=3.8.3->langchain) (2.4.3)\n",
            "Requirement already satisfied: aiosignal>=1.1.2 in /usr/local/lib/python3.10/dist-packages (from aiohttp<4.0.0,>=3.8.3->langchain) (1.3.1)\n",
            "Requirement already satisfied: attrs>=17.3.0 in /usr/local/lib/python3.10/dist-packages (from aiohttp<4.0.0,>=3.8.3->langchain) (24.2.0)\n",
            "Requirement already satisfied: frozenlist>=1.1.1 in /usr/local/lib/python3.10/dist-packages (from aiohttp<4.0.0,>=3.8.3->langchain) (1.5.0)\n",
            "Requirement already satisfied: multidict<7.0,>=4.5 in /usr/local/lib/python3.10/dist-packages (from aiohttp<4.0.0,>=3.8.3->langchain) (6.1.0)\n",
            "Requirement already satisfied: propcache>=0.2.0 in /usr/local/lib/python3.10/dist-packages (from aiohttp<4.0.0,>=3.8.3->langchain) (0.2.0)\n",
            "Requirement already satisfied: yarl<2.0,>=1.17.0 in /usr/local/lib/python3.10/dist-packages (from aiohttp<4.0.0,>=3.8.3->langchain) (1.17.2)\n",
            "Requirement already satisfied: exceptiongroup in /usr/local/lib/python3.10/dist-packages (from anyio<5,>=3.5.0->openai) (1.2.2)\n",
            "Requirement already satisfied: pyproject_hooks in /usr/local/lib/python3.10/dist-packages (from build>=1.0.3->chromadb) (1.2.0)\n",
            "Requirement already satisfied: tomli>=1.1.0 in /usr/local/lib/python3.10/dist-packages (from build>=1.0.3->chromadb) (2.1.0)\n",
            "Requirement already satisfied: marshmallow<4.0.0,>=3.18.0 in /usr/local/lib/python3.10/dist-packages (from dataclasses-json<0.7,>=0.5.7->langchain_community) (3.23.1)\n",
            "Requirement already satisfied: typing-inspect<1,>=0.4.0 in /usr/local/lib/python3.10/dist-packages (from dataclasses-json<0.7,>=0.5.7->langchain_community) (0.9.0)\n",
            "Requirement already satisfied: httpcore==1.* in /usr/local/lib/python3.10/dist-packages (from httpx<1,>=0.23.0->openai) (1.0.7)\n",
            "Requirement already satisfied: h11<0.15,>=0.13 in /usr/local/lib/python3.10/dist-packages (from httpcore==1.*->httpx<1,>=0.23.0->openai) (0.14.0)\n",
            "Requirement already satisfied: filelock in /usr/local/lib/python3.10/dist-packages (from huggingface-hub>=0.25.1->gradio) (3.16.1)\n",
            "Requirement already satisfied: six>=1.9.0 in /usr/local/lib/python3.10/dist-packages (from kubernetes>=28.1.0->chromadb) (1.16.0)\n",
            "Requirement already satisfied: google-auth>=1.0.1 in /usr/local/lib/python3.10/dist-packages (from kubernetes>=28.1.0->chromadb) (2.27.0)\n",
            "Requirement already satisfied: websocket-client!=0.40.0,!=0.41.*,!=0.42.*,>=0.32.0 in /usr/local/lib/python3.10/dist-packages (from kubernetes>=28.1.0->chromadb) (1.8.0)\n",
            "Requirement already satisfied: requests-oauthlib in /usr/local/lib/python3.10/dist-packages (from kubernetes>=28.1.0->chromadb) (1.3.1)\n",
            "Requirement already satisfied: oauthlib>=3.2.2 in /usr/local/lib/python3.10/dist-packages (from kubernetes>=28.1.0->chromadb) (3.2.2)\n",
            "Requirement already satisfied: durationpy>=0.7 in /usr/local/lib/python3.10/dist-packages (from kubernetes>=28.1.0->chromadb) (0.9)\n",
            "Requirement already satisfied: jsonpatch<2.0,>=1.33 in /usr/local/lib/python3.10/dist-packages (from langchain-core<0.4.0,>=0.3.15->langchain) (1.33)\n",
            "Requirement already satisfied: requests-toolbelt<2.0.0,>=1.0.0 in /usr/local/lib/python3.10/dist-packages (from langsmith<0.2.0,>=0.1.17->langchain) (1.0.0)\n",
            "Requirement already satisfied: coloredlogs in /usr/local/lib/python3.10/dist-packages (from onnxruntime>=1.14.1->chromadb) (15.0.1)\n",
            "Requirement already satisfied: flatbuffers in /usr/local/lib/python3.10/dist-packages (from onnxruntime>=1.14.1->chromadb) (24.3.25)\n",
            "Requirement already satisfied: protobuf in /usr/local/lib/python3.10/dist-packages (from onnxruntime>=1.14.1->chromadb) (5.28.3)\n",
            "Requirement already satisfied: sympy in /usr/local/lib/python3.10/dist-packages (from onnxruntime>=1.14.1->chromadb) (1.13.1)\n",
            "Requirement already satisfied: deprecated>=1.2.6 in /usr/local/lib/python3.10/dist-packages (from opentelemetry-api>=1.2.0->chromadb) (1.2.15)\n",
            "Requirement already satisfied: importlib-metadata<=8.5.0,>=6.0 in /usr/local/lib/python3.10/dist-packages (from opentelemetry-api>=1.2.0->chromadb) (8.5.0)\n",
            "Requirement already satisfied: googleapis-common-protos~=1.52 in /usr/local/lib/python3.10/dist-packages (from opentelemetry-exporter-otlp-proto-grpc>=1.2.0->chromadb) (1.66.0)\n",
            "Requirement already satisfied: opentelemetry-exporter-otlp-proto-common==1.28.2 in /usr/local/lib/python3.10/dist-packages (from opentelemetry-exporter-otlp-proto-grpc>=1.2.0->chromadb) (1.28.2)\n",
            "Requirement already satisfied: opentelemetry-proto==1.28.2 in /usr/local/lib/python3.10/dist-packages (from opentelemetry-exporter-otlp-proto-grpc>=1.2.0->chromadb) (1.28.2)\n",
            "Requirement already satisfied: opentelemetry-instrumentation-asgi==0.49b2 in /usr/local/lib/python3.10/dist-packages (from opentelemetry-instrumentation-fastapi>=0.41b0->chromadb) (0.49b2)\n",
            "Requirement already satisfied: opentelemetry-instrumentation==0.49b2 in /usr/local/lib/python3.10/dist-packages (from opentelemetry-instrumentation-fastapi>=0.41b0->chromadb) (0.49b2)\n",
            "Requirement already satisfied: opentelemetry-semantic-conventions==0.49b2 in /usr/local/lib/python3.10/dist-packages (from opentelemetry-instrumentation-fastapi>=0.41b0->chromadb) (0.49b2)\n",
            "Requirement already satisfied: opentelemetry-util-http==0.49b2 in /usr/local/lib/python3.10/dist-packages (from opentelemetry-instrumentation-fastapi>=0.41b0->chromadb) (0.49b2)\n",
            "Requirement already satisfied: wrapt<2.0.0,>=1.0.0 in /usr/local/lib/python3.10/dist-packages (from opentelemetry-instrumentation==0.49b2->opentelemetry-instrumentation-fastapi>=0.41b0->chromadb) (1.16.0)\n",
            "Requirement already satisfied: asgiref~=3.0 in /usr/local/lib/python3.10/dist-packages (from opentelemetry-instrumentation-asgi==0.49b2->opentelemetry-instrumentation-fastapi>=0.41b0->chromadb) (3.8.1)\n",
            "Requirement already satisfied: monotonic>=1.5 in /usr/local/lib/python3.10/dist-packages (from posthog>=2.4.0->chromadb) (1.6)\n",
            "Requirement already satisfied: backoff>=1.10.0 in /usr/local/lib/python3.10/dist-packages (from posthog>=2.4.0->chromadb) (2.2.1)\n",
            "Requirement already satisfied: annotated-types>=0.6.0 in /usr/local/lib/python3.10/dist-packages (from pydantic<3,>=1.9.0->openai) (0.7.0)\n",
            "Requirement already satisfied: pydantic-core==2.23.4 in /usr/local/lib/python3.10/dist-packages (from pydantic<3,>=1.9.0->openai) (2.23.4)\n",
            "Requirement already satisfied: markdown-it-py>=2.2.0 in /usr/local/lib/python3.10/dist-packages (from rich>=10.11.0->chromadb) (3.0.0)\n",
            "Requirement already satisfied: pygments<3.0.0,>=2.13.0 in /usr/local/lib/python3.10/dist-packages (from rich>=10.11.0->chromadb) (2.18.0)\n",
            "Requirement already satisfied: greenlet!=0.4.17 in /usr/local/lib/python3.10/dist-packages (from SQLAlchemy<3,>=1.4->langchain) (3.1.1)\n",
            "Requirement already satisfied: click>=8.0.0 in /usr/local/lib/python3.10/dist-packages (from typer<1.0,>=0.12->gradio) (8.1.7)\n",
            "Requirement already satisfied: shellingham>=1.3.0 in /usr/local/lib/python3.10/dist-packages (from typer<1.0,>=0.12->gradio) (1.5.4)\n",
            "Requirement already satisfied: httptools>=0.6.3 in /usr/local/lib/python3.10/dist-packages (from uvicorn[standard]>=0.18.3->chromadb) (0.6.4)\n",
            "Requirement already satisfied: uvloop!=0.15.0,!=0.15.1,>=0.14.0 in /usr/local/lib/python3.10/dist-packages (from uvicorn[standard]>=0.18.3->chromadb) (0.21.0)\n",
            "Requirement already satisfied: watchfiles>=0.13 in /usr/local/lib/python3.10/dist-packages (from uvicorn[standard]>=0.18.3->chromadb) (0.24.0)\n",
            "Requirement already satisfied: cachetools<6.0,>=2.0.0 in /usr/local/lib/python3.10/dist-packages (from google-auth>=1.0.1->kubernetes>=28.1.0->chromadb) (5.5.0)\n",
            "Requirement already satisfied: pyasn1-modules>=0.2.1 in /usr/local/lib/python3.10/dist-packages (from google-auth>=1.0.1->kubernetes>=28.1.0->chromadb) (0.4.1)\n",
            "Requirement already satisfied: rsa<5,>=3.1.4 in /usr/local/lib/python3.10/dist-packages (from google-auth>=1.0.1->kubernetes>=28.1.0->chromadb) (4.9)\n",
            "Requirement already satisfied: zipp>=3.20 in /usr/local/lib/python3.10/dist-packages (from importlib-metadata<=8.5.0,>=6.0->opentelemetry-api>=1.2.0->chromadb) (3.21.0)\n",
            "Requirement already satisfied: jsonpointer>=1.9 in /usr/local/lib/python3.10/dist-packages (from jsonpatch<2.0,>=1.33->langchain-core<0.4.0,>=0.3.15->langchain) (3.0.0)\n",
            "Requirement already satisfied: mdurl~=0.1 in /usr/local/lib/python3.10/dist-packages (from markdown-it-py>=2.2.0->rich>=10.11.0->chromadb) (0.1.2)\n",
            "Requirement already satisfied: mypy-extensions>=0.3.0 in /usr/local/lib/python3.10/dist-packages (from typing-inspect<1,>=0.4.0->dataclasses-json<0.7,>=0.5.7->langchain_community) (1.0.0)\n",
            "Requirement already satisfied: humanfriendly>=9.1 in /usr/local/lib/python3.10/dist-packages (from coloredlogs->onnxruntime>=1.14.1->chromadb) (10.0)\n",
            "Requirement already satisfied: mpmath<1.4,>=1.1.0 in /usr/local/lib/python3.10/dist-packages (from sympy->onnxruntime>=1.14.1->chromadb) (1.3.0)\n",
            "Requirement already satisfied: pyasn1<0.7.0,>=0.4.6 in /usr/local/lib/python3.10/dist-packages (from pyasn1-modules>=0.2.1->google-auth>=1.0.1->kubernetes>=28.1.0->chromadb) (0.6.1)\n"
          ]
        }
      ]
    },
    {
      "cell_type": "markdown",
      "source": [
        "## **2. Competitor Analysis Agent**\n",
        "The **CompetitorAnalysisAgent** is the core of our system. It processes competitor data and generates insights using OpenAI’s language model."
      ],
      "metadata": {
        "id": "9pSplPPgPSr9"
      }
    },
    {
      "cell_type": "code",
      "source": [
        "import os\n",
        "import openai\n",
        "from langchain import OpenAI, LLMChain, PromptTemplate\n",
        "from langchain.memory import ConversationBufferMemory\n",
        "import chromadb\n",
        "from typing import Dict\n",
        "from google.colab import userdata\n",
        "# Set OpenAI API key\n",
        "openai.api_key = userdata.get('openai')\n",
        "os.environ[\"OPENAI_API_KEY\"] = userdata.get('openai')\n",
        "\n",
        "class CompetitorAnalysisAgent:\n",
        "    def __init__(self, competitor_name: str):\n",
        "        self.competitor_name = competitor_name\n",
        "        self.llm = OpenAI(temperature=0.7)\n",
        "        self.memory = ConversationBufferMemory()\n",
        "        self.chroma_client = chromadb.Client()\n",
        "        self.collection = self.chroma_client.create_collection(name=f\"competitor_{competitor_name}\")\n",
        "\n",
        "    def analyze_competitor_data(self, data: Dict) -> str:\n",
        "        \"\"\"\n",
        "        Analyzes competitor data using LLM.\n",
        "        \"\"\"\n",
        "        template = \"\"\"\n",
        "        Analyze the following competitor data and provide strategic insights:\n",
        "        Competitor: {competitor}\n",
        "        Data: {data}\n",
        "        Previous context: {history}\n",
        "\n",
        "        Provide insights on:\n",
        "        1. Market positioning\n",
        "        2. Pricing strategy\n",
        "        3. Product features\n",
        "        4. Marketing approach\n",
        "        5. Recommended counter-strategies\n",
        "        \"\"\"\n",
        "        prompt = PromptTemplate(\n",
        "            input_variables=[\"competitor\", \"data\", \"history\"],\n",
        "            template=template\n",
        "        )\n",
        "        chain = LLMChain(llm=self.llm, prompt=prompt)\n",
        "        return chain.run(\n",
        "            competitor=self.competitor_name,\n",
        "            data=data,\n",
        "            history=self.memory.buffer\n",
        "        )\n",
        "\n"
      ],
      "metadata": {
        "id": "2FUhlUHqO6Fy"
      },
      "execution_count": null,
      "outputs": []
    },
    {
      "cell_type": "markdown",
      "source": [
        "## **3. Competitor Data Scraper**\n",
        "The **CompetitorDataScraper** collects real-time data from competitor websites using web scraping."
      ],
      "metadata": {
        "id": "eCG3xYEiO9sy"
      }
    },
    {
      "cell_type": "code",
      "source": [
        "import requests\n",
        "from bs4 import BeautifulSoup\n",
        "from datetime import datetime\n",
        "\n",
        "class CompetitorDataScraper:\n",
        "    def __init__(self):\n",
        "        self.headers = {'User-Agent': 'Mozilla/5.0'}\n",
        "\n",
        "    def scrape_competitor_website(self, url: str) -> Dict:\n",
        "        \"\"\"\n",
        "        Scrapes competitor website for relevant information.\n",
        "        \"\"\"\n",
        "        try:\n",
        "            response = requests.get(url, headers=self.headers)\n",
        "            soup = BeautifulSoup(response.text, 'html.parser')\n",
        "            data = {\n",
        "                'title': soup.title.string if soup.title else '',\n",
        "                'timestamp': datetime.now().isoformat()\n",
        "                # Add custom logic for extracting products or pricing here.\n",
        "            }\n",
        "            return data\n",
        "        except Exception as e:\n",
        "            print(f\"Error scraping website: {e}\")\n",
        "            return {}"
      ],
      "metadata": {
        "id": "Af8zfEjpO0jL"
      },
      "execution_count": null,
      "outputs": []
    },
    {
      "cell_type": "markdown",
      "source": [
        "## **4. Strategy Adjustment System**\n",
        "This module generates actionable strategies based on competitor analysis."
      ],
      "metadata": {
        "id": "PDzKF4HvOq4a"
      }
    },
    {
      "cell_type": "code",
      "source": [
        "class StrategyAdjustmentSystem:\n",
        "    def __init__(self):\n",
        "        self.llm = OpenAI(temperature=0.5)\n",
        "        self.memory = ConversationBufferMemory()\n",
        "\n",
        "    def generate_strategy_recommendations(self, competitor_analysis: str) -> Dict:\n",
        "        \"\"\"\n",
        "        Generates strategic recommendations from analysis.\n",
        "        \"\"\"\n",
        "        template = \"\"\"\n",
        "        Based on the following competitor analysis, provide actionable strategies:\n",
        "        Analysis: {analysis}\n",
        "\n",
        "        Focus on:\n",
        "        1. Pricing\n",
        "        2. Product improvements\n",
        "        3. Marketing strategies\n",
        "        4. Competitive advantages\n",
        "\n",
        "        Return the recommendations as a structured action plan.\n",
        "        \"\"\"\n",
        "        prompt = PromptTemplate(\n",
        "            input_variables=[\"analysis\"],\n",
        "            template=template\n",
        "        )\n",
        "        chain = LLMChain(llm=self.llm, prompt=prompt)\n",
        "        return chain.run(analysis=competitor_analysis)"
      ],
      "metadata": {
        "id": "6NTXz_LhOvAf"
      },
      "execution_count": null,
      "outputs": []
    },
    {
      "cell_type": "markdown",
      "source": [
        "## **5. Competitor Monitoring System**\n",
        "This system combines scraping, analysis, and strategy generation for monitoring competitors."
      ],
      "metadata": {
        "id": "JNDqrQO8Oik1"
      }
    },
    {
      "cell_type": "code",
      "source": [
        "class CompetitorMonitoringSystem:\n",
        "    def __init__(self):\n",
        "        self.competitors = {}\n",
        "        self.scraper = CompetitorDataScraper()\n",
        "        self.strategy_system = StrategyAdjustmentSystem()\n",
        "        self.chroma_client = chromadb.Client()\n",
        "\n",
        "    def add_competitor(self, name: str, url: str):\n",
        "        \"\"\"\n",
        "        Adds a competitor to the monitoring system.\n",
        "        \"\"\"\n",
        "        self.competitors[name] = {\n",
        "            'url': url,\n",
        "            'agent': CompetitorAnalysisAgent(name)\n",
        "        }\n",
        "\n",
        "    def monitor_competitors(self):\n",
        "        \"\"\"\n",
        "        Monitors all competitors and generates insights.\n",
        "        \"\"\"\n",
        "        results = []\n",
        "        for name, data in self.competitors.items():\n",
        "            competitor_data = self.scraper.scrape_competitor_website(data['url'])\n",
        "            data['agent'].analyze_competitor_data(competitor_data)\n",
        "            analysis = data['agent'].analyze_competitor_data(competitor_data)\n",
        "            recommendations = self.strategy_system.generate_strategy_recommendations(analysis)\n",
        "            results.append({'competitor': name, 'analysis': analysis, 'recommendations': recommendations})\n",
        "        return results"
      ],
      "metadata": {
        "id": "lt9tmRXtOlYx"
      },
      "execution_count": null,
      "outputs": []
    },
    {
      "cell_type": "markdown",
      "source": [
        "## **6. User Interface with Gradio**\n",
        "Finally, we create an intuitive **Gradio** interface for adding competitors, running analyses, and viewing historical data."
      ],
      "metadata": {
        "id": "ArgD-fYwOXxX"
      }
    },
    {
      "cell_type": "code",
      "source": [
        "import gradio as gr\n",
        "\n",
        "class CompetitorAnalysisUI:\n",
        "    def __init__(self):\n",
        "        self.monitoring_system = CompetitorMonitoringSystem()\n",
        "\n",
        "    def format_results(self, results):\n",
        "        \"\"\"\n",
        "        Formats the analysis results into a styled HTML for professional display.\n",
        "        \"\"\"\n",
        "        html = \"<h2>Analysis Results</h2>\"\n",
        "        for idx, result in enumerate(results):\n",
        "            competitor = result[\"competitor\"]\n",
        "            analysis = result[\"analysis\"]\n",
        "            recommendations = result[\"recommendations\"]\n",
        "            html += f\"\"\"\n",
        "            <div style='margin-bottom: 20px; padding: 15px; border: 1px solid #ddd; border-radius: 8px;'>\n",
        "                <h3 style='color: #2c3e50;'>Competitor {idx + 1}: {competitor}</h3>\n",
        "                <strong style='color: #16a085;'>Analysis:</strong>\n",
        "                <p style='font-size: 14px; line-height: 1.6;'>{analysis}</p>\n",
        "                <strong style='color: #c0392b;'>Recommendations:</strong>\n",
        "                <ul style='font-size: 14px; line-height: 1.6;'>\n",
        "                    {\"\".join(f\"<li>{rec.strip()}</li>\" for rec in recommendations.split(\"-\"))}\n",
        "                </ul>\n",
        "            </div>\n",
        "            \"\"\"\n",
        "        return html\n",
        "\n",
        "    def setup_interface(self):\n",
        "        \"\"\"\n",
        "        Creates a polished Gradio interface for the competitor analysis system.\n",
        "        \"\"\"\n",
        "        def add_competitor(name, url):\n",
        "            self.monitoring_system.add_competitor(name, url)\n",
        "            return f\"Competitor '{name}' successfully added!\"\n",
        "\n",
        "        def run_analysis():\n",
        "            results = self.monitoring_system.monitor_competitors()\n",
        "            formatted_results = self.format_results(results)\n",
        "            return formatted_results\n",
        "\n",
        "        # Gradio Interface\n",
        "        with gr.Blocks(theme=gr.themes.Soft()) as interface:\n",
        "            # Landing Page Header\n",
        "            with gr.Row():\n",
        "                gr.Markdown(\n",
        "                    \"\"\"\n",
        "                    # 🌟 **Competitor Analysis System**\n",
        "                    Welcome to the Competitor Analysis System! Use this tool to monitor and analyze your competitors effortlessly.\n",
        "\n",
        "                    ### Features:\n",
        "                    - Add competitor information (name and website).\n",
        "                    - Run comprehensive competitor analysis with a single click.\n",
        "\n",
        "                    Navigate using the tabs below:\n",
        "                    \"\"\"\n",
        "                )\n",
        "\n",
        "            # Tabs for functionality\n",
        "            with gr.Tab(\"🔗 Add Competitor\"):\n",
        "                gr.Markdown(\"### Add Competitor Details\")\n",
        "                name_input = gr.Textbox(label=\"Competitor Name\", placeholder=\"Enter competitor's name\")\n",
        "                url_input = gr.Textbox(label=\"Website URL\", placeholder=\"Enter competitor's website URL\")\n",
        "                add_button = gr.Button(\"➕ Add Competitor\", elem_id=\"add-btn\")\n",
        "                add_output = gr.Textbox(label=\"Message\", interactive=False)\n",
        "                add_button.click(add_competitor, inputs=[name_input, url_input], outputs=add_output)\n",
        "\n",
        "            with gr.Tab(\"📊 Run Analysis\"):\n",
        "                gr.Markdown(\"### Perform Competitor Analysis\")\n",
        "                run_button = gr.Button(\"🚀 Run Analysis\", elem_id=\"run-btn\")\n",
        "                analysis_output = gr.HTML(label=\"Analysis Results\")\n",
        "                run_button.click(run_analysis, outputs=analysis_output)\n",
        "\n",
        "            # Footer\n",
        "            gr.Markdown(\n",
        "                \"\"\"\n",
        "                ---\n",
        "                *Powered by AI for Competitive Intelligence.*\n",
        "                **Contact:** [support@example.com](mailto:support@example.com)\n",
        "                \"\"\"\n",
        "            )\n",
        "\n",
        "        return interface"
      ],
      "metadata": {
        "id": "7L7lYuOnfa4d"
      },
      "execution_count": null,
      "outputs": []
    },
    {
      "cell_type": "markdown",
      "source": [
        "## **7. Main Application**\n",
        "Launch the system using the following script:"
      ],
      "metadata": {
        "id": "5mkVgBRiNnh4"
      }
    },
    {
      "cell_type": "code",
      "source": [
        "def main():\n",
        "    ui = CompetitorAnalysisUI()\n",
        "    interface = ui.setup_interface()\n",
        "    interface.launch(share=True, debug=True)\n",
        "\n",
        "if __name__ == \"__main__\":\n",
        "    main()"
      ],
      "metadata": {
        "colab": {
          "base_uri": "https://localhost:8080/",
          "height": 796
        },
        "id": "Utbf6ij4OSvr",
        "outputId": "4b003416-b3f0-409e-bbf2-1a891b9c84fb"
      },
      "execution_count": null,
      "outputs": [
        {
          "output_type": "stream",
          "name": "stderr",
          "text": [
            "<ipython-input-4-9bedf66741f5>:3: LangChainDeprecationWarning: The class `OpenAI` was deprecated in LangChain 0.0.10 and will be removed in 1.0. An updated version of the class exists in the :class:`~langchain-openai package and should be used instead. To use it run `pip install -U :class:`~langchain-openai` and import as `from :class:`~langchain_openai import OpenAI``.\n",
            "  self.llm = OpenAI(temperature=0.5)\n",
            "<ipython-input-4-9bedf66741f5>:4: LangChainDeprecationWarning: Please see the migration guide at: https://python.langchain.com/docs/versions/migrating_memory/\n",
            "  self.memory = ConversationBufferMemory()\n"
          ]
        },
        {
          "output_type": "stream",
          "name": "stdout",
          "text": [
            "Colab notebook detected. This cell will run indefinitely so that you can see errors and logs. To turn off, set debug=False in launch().\n",
            "* Running on public URL: https://aface567ce800b1450.gradio.live\n",
            "\n",
            "This share link expires in 72 hours. For free permanent hosting and GPU upgrades, run `gradio deploy` from the terminal in the working directory to deploy to Hugging Face Spaces (https://huggingface.co/spaces)\n"
          ]
        },
        {
          "output_type": "display_data",
          "data": {
            "text/plain": [
              "<IPython.core.display.HTML object>"
            ],
            "text/html": [
              "<div><iframe src=\"https://aface567ce800b1450.gradio.live\" width=\"100%\" height=\"500\" allow=\"autoplay; camera; microphone; clipboard-read; clipboard-write;\" frameborder=\"0\" allowfullscreen></iframe></div>"
            ]
          },
          "metadata": {}
        },
        {
          "output_type": "stream",
          "name": "stderr",
          "text": [
            "<ipython-input-2-05a4e041a503>:41: LangChainDeprecationWarning: The class `LLMChain` was deprecated in LangChain 0.1.17 and will be removed in 1.0. Use :meth:`~RunnableSequence, e.g., `prompt | llm`` instead.\n",
            "  chain = LLMChain(llm=self.llm, prompt=prompt)\n",
            "<ipython-input-2-05a4e041a503>:42: LangChainDeprecationWarning: The method `Chain.run` was deprecated in langchain 0.1.0 and will be removed in 1.0. Use :meth:`~invoke` instead.\n",
            "  return chain.run(\n"
          ]
        },
        {
          "output_type": "stream",
          "name": "stdout",
          "text": [
            "Keyboard interruption in main thread... closing server.\n",
            "Killing tunnel 127.0.0.1:7860 <> https://aface567ce800b1450.gradio.live\n"
          ]
        }
      ]
    },
    {
      "cell_type": "markdown",
      "source": [
        "## **Conclusion**\n",
        "This multi-agent system provides:\n",
        "1. **Real-time competitor monitoring** through scraping.\n",
        "2. **Deep insights** using OpenAI’s LLMs.\n",
        "3. **Actionable strategies** for business decisions.\n",
        "\n",
        "You can customize and expand this system by:\n",
        "- Adding advanced scraping rules.\n",
        "- Storing more data in **ChromaDB**.\n",
        "- Enhancing Gradio UI for visualization."
      ],
      "metadata": {
        "id": "8l4i1kKmNhNN"
      }
    }
  ]
}